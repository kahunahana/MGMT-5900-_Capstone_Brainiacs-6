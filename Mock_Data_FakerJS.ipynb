{
  "nbformat": 4,
  "nbformat_minor": 0,
  "metadata": {
    "colab": {
      "provenance": [],
      "include_colab_link": true
    },
    "kernelspec": {
      "name": "python3",
      "display_name": "Python 3"
    },
    "language_info": {
      "name": "python"
    }
  },
  "cells": [
    {
      "cell_type": "markdown",
      "metadata": {
        "id": "view-in-github",
        "colab_type": "text"
      },
      "source": [
        "<a href=\"https://colab.research.google.com/github/kahunahana/MGMT-5900-_Capstone_Brainiacs-6/blob/main/Mock_Data_FakerJS.ipynb\" target=\"_parent\"><img src=\"https://colab.research.google.com/assets/colab-badge.svg\" alt=\"Open In Colab\"/></a>"
      ]
    },
    {
      "cell_type": "code",
      "source": [
        "!pip install -q google-cloud-bigquery\n",
        "# !pip install apache-beam\n",
        "\n",
        "import os\n",
        "from google.cloud import bigquery\n",
        "\n",
        "from google.colab import auth\n",
        "auth.authenticate_user()\n",
        "\n",
        "import seaborn as sns\n",
        "import pandas as pd\n",
        "import matplotlib.pyplot as plt\n",
        "\n",
        "from google.cloud import storage\n",
        "import json\n",
        "import numpy as np\n",
        "\n",
        "import random\n",
        "from datetime import datetime, timezone\n",
        "\n",
        "# To supress warnings\n",
        "import warnings\n",
        "warnings.filterwarnings(\"ignore\")"
      ],
      "metadata": {
        "id": "mUkQtAOdszmO"
      },
      "execution_count": null,
      "outputs": []
    },
    {
      "cell_type": "code",
      "source": [
        "project_id = 'thelook-product-recom-1'\n",
        "client = bigquery.Client(project=project_id)"
      ],
      "metadata": {
        "id": "cnhzWD9Ks9lc"
      },
      "execution_count": null,
      "outputs": []
    },
    {
      "cell_type": "code",
      "source": [
        "# get order_items\n",
        "query = \"\"\"\n",
        "SELECT *\n",
        "FROM `thelook-product-recom-1.theLook.order_items`\n",
        "\"\"\"\n",
        "\n",
        "# Run the query and load the result into a Pandas DataFrame\n",
        "df_order_items = client.query(query).to_dataframe()\n"
      ],
      "metadata": {
        "id": "YmtnkP_otI5Z"
      },
      "execution_count": null,
      "outputs": []
    },
    {
      "cell_type": "code",
      "source": [
        "# get products\n",
        "query = \"\"\"\n",
        "SELECT *\n",
        "FROM `thelook-product-recom-1.theLook.products`\n",
        "\"\"\"\n",
        "\n",
        "# Run the query and load the result into a Pandas DataFrame\n",
        "df_products = client.query(query).to_dataframe()\n"
      ],
      "metadata": {
        "id": "-XGF2flxtPDO"
      },
      "execution_count": null,
      "outputs": []
    },
    {
      "cell_type": "code",
      "source": [
        "# get orders\n",
        "query = \"\"\"\n",
        "SELECT *\n",
        "FROM `thelook-product-recom-1.theLook.orders`\n",
        "\"\"\"\n",
        "\n",
        "# Run the query and load the result into a Pandas DataFrame\n",
        "df_orders = client.query(query).to_dataframe()\n"
      ],
      "metadata": {
        "id": "VKjqbgS-tebW"
      },
      "execution_count": null,
      "outputs": []
    },
    {
      "cell_type": "code",
      "source": [
        "# get users\n",
        "query = \"\"\"\n",
        "SELECT *\n",
        "FROM `thelook-product-recom-1.theLook.users`\n",
        "\"\"\"\n",
        "\n",
        "# Run the query and load the result into a Pandas DataFrame\n",
        "df_users = client.query(query).to_dataframe()\n"
      ],
      "metadata": {
        "id": "S0rRaHgltjkX"
      },
      "execution_count": null,
      "outputs": []
    },
    {
      "cell_type": "code",
      "source": [
        "list(df_orders['status'].unique())"
      ],
      "metadata": {
        "colab": {
          "base_uri": "https://localhost:8080/"
        },
        "id": "U-s64rff5RqJ",
        "outputId": "1e6fde8b-bd5c-462f-c18d-5160ef18b443"
      },
      "execution_count": null,
      "outputs": [
        {
          "output_type": "execute_result",
          "data": {
            "text/plain": [
              "['Shipped', 'Complete', 'Returned', 'Cancelled', 'Processing']"
            ]
          },
          "metadata": {},
          "execution_count": 11
        }
      ]
    },
    {
      "cell_type": "code",
      "source": [
        "# Create a datetime object for the given date and time in UTC timezone\n",
        "current_time = datetime.now()\n",
        "\n",
        "# Format the time in the desired format\n",
        "formatted_time = current_time.strftime('%Y-%m-%d %H:%M:%S UTC')\n",
        "\n",
        "\n",
        "def generate_orders():\n",
        "  genders = ['M', 'F', 'Unknown']\n",
        "  order_id = df_orders.order_id.to_list()\n",
        "  current_max_id = int(max(order_id) + 1) # Make sure that the new id is 101\n",
        "  status_choice = list(df_orders['status'].unique())\n",
        "  # Add the new id to the user_ids so that the new id, 101 can be used as the starting point for the new id and the next time code runs we get 102\n",
        "  order_id.append(current_max_id)\n",
        "  blank_or_1 = ['',1]\n",
        "  users_id = df_users.id.to_list()\n",
        "  #print(type(users_id))\n",
        "\n",
        "  return {\n",
        "        \"order_id\" : current_max_id,\n",
        "        \"user_id\" : int(random.choice(users_id)),\n",
        "        \"status\" : random.choice(status_choice),\n",
        "        \"gender\": random.choice(genders),\n",
        "        \"create_at\" : formatted_time,\n",
        "        \"returned_at\" : random.choice(blank_or_1),\n",
        "        \"shipped_at\" : random.choice(blank_or_1),\n",
        "        \"delivered_at\" : random.choice(blank_or_1),\n",
        "        \"num_of_items\": random.randint(1,10)\n",
        "\n",
        "    }"
      ],
      "metadata": {
        "id": "zGpGk-6j6WNC"
      },
      "execution_count": null,
      "outputs": []
    },
    {
      "cell_type": "code",
      "source": [
        "generate_orders()"
      ],
      "metadata": {
        "colab": {
          "base_uri": "https://localhost:8080/"
        },
        "id": "CZozOHHI6Zir",
        "outputId": "745938c4-a5df-4714-fa9b-ec06c3088dc8"
      },
      "execution_count": null,
      "outputs": [
        {
          "output_type": "execute_result",
          "data": {
            "text/plain": [
              "{'order_id': 125282,\n",
              " 'user_id': 37083,\n",
              " 'status': 'Processing',\n",
              " 'gender': 'M',\n",
              " 'create_at': '2023-08-15 22:34:17 UTC',\n",
              " 'returned_at': 1,\n",
              " 'shipped_at': '',\n",
              " 'delivered_at': '',\n",
              " 'num_of_items': 3}"
            ]
          },
          "metadata": {},
          "execution_count": 90
        }
      ]
    },
    {
      "cell_type": "code",
      "source": [
        "def generate_order_items():\n",
        "\n",
        "  order_ids = df_order_items.id.to_list()\n",
        "\n",
        "\n",
        "  order_details = generate_orders()\n",
        "  order_id = order_details['order_id']\n",
        "  user_id = order_details['user_id']\n",
        "  num_of_items = order_details['num_of_items']\n",
        "  ordered_at = order_details['create_at']\n",
        "\n",
        "  product_ids = df_products.id.to_list()\n",
        "\n",
        "  product_id = random.choice(product_ids)\n",
        "\n",
        "  statuses = list(df_order_items['status'].unique())\n",
        "  blank_or_1 = ['',1]\n",
        "\n",
        "  sales_price = df_products.loc[df_products['id'] == product_id, 'retail_price'].iloc[0]\n",
        "\n",
        "  # Create an empty dict\n",
        "  objs = {}\n",
        "\n",
        "  for i in range(1, num_of_items+1) :\n",
        "\n",
        "    current_max_id = int(max(order_ids) + 1)\n",
        "    order_ids.append(current_max_id)\n",
        "\n",
        "    objs[i] = {\n",
        "            \"id\" : int(current_max_id),\n",
        "            \"order_id\" : int(order_id),\n",
        "            \"user_id\" : int(user_id),\n",
        "            \"product_id\" : int(random.choice(product_ids)),\n",
        "            \"inventory_id\": random.randint(1000,9999),\n",
        "            \"status\" : random.choice(statuses),\n",
        "            \"ordered_at\" : ordered_at,\n",
        "            \"returned_at\" : random.choice(blank_or_1),\n",
        "            \"shipped_at\" : random.choice(blank_or_1),\n",
        "            \"sale_price\": sales_price\n",
        "      }\n",
        "\n",
        "  json_data = objs.values()\n",
        "  json_data = json.dumps(json_data, indent=1)\n",
        "\n",
        "  return json_data"
      ],
      "metadata": {
        "id": "4tir7tvr8ocU"
      },
      "execution_count": null,
      "outputs": []
    },
    {
      "cell_type": "code",
      "source": [
        "generate_order_items()"
      ],
      "metadata": {
        "id": "Sk0DTISui_wY",
        "colab": {
          "base_uri": "https://localhost:8080/",
          "height": 87
        },
        "outputId": "82ce66b0-7bc1-4f04-b7a7-73f40793422c"
      },
      "execution_count": null,
      "outputs": [
        {
          "output_type": "execute_result",
          "data": {
            "text/plain": [
              "'{\\n \"1\": {\\n  \"id\": 181823,\\n  \"order_id\": 125282,\\n  \"user_id\": 24180,\\n  \"product_id\": 24579,\\n  \"inventory_id\": 8893,\\n  \"status\": \"Processing\",\\n  \"ordered_at\": \"2023-08-15 23:43:12 UTC\",\\n  \"returned_at\": \"\",\\n  \"shipped_at\": \"\",\\n  \"sale_price\": 14.329999923706056\\n },\\n \"2\": {\\n  \"id\": 181824,\\n  \"order_id\": 125282,\\n  \"user_id\": 24180,\\n  \"product_id\": 13814,\\n  \"inventory_id\": 8228,\\n  \"status\": \"Processing\",\\n  \"ordered_at\": \"2023-08-15 23:43:12 UTC\",\\n  \"returned_at\": 1,\\n  \"shipped_at\": \"\",\\n  \"sale_price\": 14.329999923706056\\n },\\n \"3\": {\\n  \"id\": 181825,\\n  \"order_id\": 125282,\\n  \"user_id\": 24180,\\n  \"product_id\": 5014,\\n  \"inventory_id\": 5052,\\n  \"status\": \"Processing\",\\n  \"ordered_at\": \"2023-08-15 23:43:12 UTC\",\\n  \"returned_at\": 1,\\n  \"shipped_at\": \"\",\\n  \"sale_price\": 14.329999923706056\\n }\\n}'"
            ],
            "application/vnd.google.colaboratory.intrinsic+json": {
              "type": "string"
            }
          },
          "metadata": {},
          "execution_count": 163
        }
      ]
    },
    {
      "cell_type": "code",
      "execution_count": null,
      "metadata": {
        "id": "AoYKNPglsyMT",
        "outputId": "30050796-1922-48bf-d306-5085c5d1e71c",
        "colab": {
          "base_uri": "https://localhost:8080/"
        }
      },
      "outputs": [
        {
          "output_type": "stream",
          "name": "stdout",
          "text": [
            "File /content/orders.json uploaded to orders.json.\n"
          ]
        }
      ],
      "source": [
        "# 2. Store Synthetic Data in Cloud Storage (CS) Bucket\n",
        "bucket_name = 'mock_public_data'\n",
        "local_file_path = '/content/orders.json' # Local path where the file will be saved\n",
        "blob_name = 'orders.json'\n",
        "\n",
        "client = storage.Client()\n",
        "bucket = client.get_bucket(bucket_name)\n",
        "\n",
        "# Delete all existing files in the bucket\n",
        "blobs = bucket.list_blobs()\n",
        "for blob in blobs:\n",
        "    blob.delete()\n",
        "\n",
        "# Generate data\n",
        "data = [generate_orders() for _ in range(1)] #loop through and save to bucket\n",
        "\n",
        "# Save the data to a local file\n",
        "with open(local_file_path, 'w') as file:\n",
        "    json.dump(data, file)\n",
        "\n",
        "# Upload the new file to the bucket\n",
        "blob = bucket.blob(blob_name)\n",
        "blob.upload_from_filename(local_file_path)\n",
        "\n",
        "print(f\"File {local_file_path} uploaded to {blob_name}.\")"
      ]
    },
    {
      "cell_type": "code",
      "source": [
        "from google.cloud import storage\n",
        "\n",
        "def delete_blobs(bucket_name, prefix=None):\n",
        "    \"\"\"Deletes all blobs in the bucket that match the prefix.\"\"\"\n",
        "    storage_client = storage.Client()\n",
        "    bucket = storage_client.bucket(bucket_name)\n",
        "    blobs = bucket.list_blobs(prefix=prefix)\n",
        "\n",
        "    for blob in blobs:\n",
        "        blob.delete()\n",
        "        print(f\"Blob {blob.name} deleted.\")\n",
        "\n",
        "def upload_file_to_gcs(bucket_name, source_file_name, destination_blob_name):\n",
        "    \"\"\"Uploads a file to the bucket.\"\"\"\n",
        "    storage_client = storage.Client()\n",
        "    bucket = storage_client.bucket(bucket_name)\n",
        "    blob = bucket.blob(destination_blob_name)\n",
        "\n",
        "    with open(source_file_name, 'r') as file:\n",
        "        blob.upload_from_file(file)\n",
        "\n",
        "    print(f\"File {source_file_name} uploaded to {destination_blob_name}.\")\n",
        "\n",
        "# Example usage\n",
        "bucket_name = \"mock_public_data\"\n",
        "prefix = \"https://console.cloud.google.com/storage/browser/mock_public_data\" # Optional: specify a prefix to delete only files that match\n",
        "source_file_name = \"/content/orders.json\"\n",
        "destination_blob_name = \"orders.json\"\n",
        "\n",
        "delete_blobs(bucket_name, prefix)\n",
        "upload_file_to_gcs(bucket_name, source_file_name, destination_blob_name)\n"
      ],
      "metadata": {
        "id": "CRgTvquXsGU8",
        "outputId": "d79953b7-3000-4a14-d447-2fcd003c06fe",
        "colab": {
          "base_uri": "https://localhost:8080/"
        }
      },
      "execution_count": null,
      "outputs": [
        {
          "output_type": "stream",
          "name": "stdout",
          "text": [
            "Blob https://console.cloud.google.com/storage/browser/mock_public_data/orders.json deleted.\n",
            "File /content/orders.json uploaded to orders.json.\n"
          ]
        }
      ]
    },
    {
      "cell_type": "code",
      "source": [
        "# # # 3. Set Up Dataflow to Read from Cloud Storage and Write to Pub/Sub\n",
        "# # import apache_beam as beam\n",
        "\n",
        "\n",
        "# pipeline_options = beam.options.pipeline_options.PipelineOptions()\n",
        "# with beam.Pipeline(options=pipeline_options) as p:\n",
        "#     # Read from Cloud Storage\n",
        "#     lines = p | 'Read from GCS' >> beam.io.ReadFromText('gs://mock_public_data/mock_data.json')\n",
        "\n",
        "#     # Process the data as needed\n",
        "#     processed = lines | 'Process Data' >> beam.Map(lambda x: x)  # Modify as needed\n",
        "\n",
        "#     # Write to Pub/Sub\n",
        "#     processed | 'Write to Pub/Sub' >> beam.io.WriteToPubSub(f'projects/{project_id}/topics/{your-topic-id}')"
      ],
      "metadata": {
        "id": "ObbBKeCz-4h7"
      },
      "execution_count": null,
      "outputs": []
    },
    {
      "cell_type": "code",
      "source": [
        "# 4. Simulate Streaming Data into Pub/Sub\n",
        "from google.cloud import pubsub_v1\n",
        "import timae\n",
        "import json\n",
        "\n",
        "project_id = \"your-project-id\"\n",
        "topic_id = \"your-topic-id\"\n",
        "\n",
        "publisher = pubsub_v1.PublisherClient()\n",
        "topic_path = publisher.topic_path(project_id, topic_id)\n",
        "\n",
        "while True:\n",
        "    # Create a synthetic message\n",
        "    message = {\"key\": \"value\"}  # Adjust this to match your data structure\n",
        "    message_json = json.dumps(message)\n",
        "\n",
        "    # Publish the message\n",
        "    publisher.publish(topic_path, message_json.encode(\"utf-8\"))\n",
        "\n",
        "    # Wait for a specified interval\n",
        "    time.sleep(1)  # Adjust this to control the streaming rate"
      ],
      "metadata": {
        "id": "a41XogIx-rfC"
      },
      "execution_count": null,
      "outputs": []
    }
  ]
}